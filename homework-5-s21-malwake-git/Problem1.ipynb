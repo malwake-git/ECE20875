{
 "cells": [
  {
   "cell_type": "markdown",
   "metadata": {},
   "source": [
    "$Problem$ $1:$"
   ]
  },
  {
   "cell_type": "markdown",
   "metadata": {},
   "source": [
    "In this problem will test the engagement rate hypothesizes provided by the teacher for both knowledgeable and non-knowledgable students. We will use hypothesis testing in order to challenge the given null hypothesizes of the teacher."
   ]
  },
  {
   "cell_type": "code",
   "execution_count": 2,
   "metadata": {},
   "outputs": [],
   "source": [
    "import numpy as np\n",
    "import matplotlib.pyplot\n",
    "import scipy.stats as stats\n",
    "from scipy.stats import ttest_1samp\n",
    "from scipy.stats import norm"
   ]
  },
  {
   "cell_type": "markdown",
   "metadata": {},
   "source": [
    "Q1:\n",
    "\n",
    "    Null hypothesis: The mean engagement of knowledgeable students who is = 0.75\n",
    "\n",
    "    Alternative hypothesis H(1): The mean engagement of knowledgeable    students is != 0.75\n",
    "\n",
    "    Therefore, we will be using hypothesis testing for a sample of size  larger than 30."
   ]
  },
  {
   "cell_type": "code",
   "execution_count": 3,
   "metadata": {},
   "outputs": [],
   "source": [
    "know_file = open('engagement_1.txt')\n",
    "data1 = know_file.readlines()\n",
    "data1 = [float(x) for x in data1]\n",
    "\n",
    "nonknow_file = open('engagement_0.txt')\n",
    "data0 = nonknow_file.readlines()\n",
    "data0 = [float(x) for x in data0]"
   ]
  },
  {
   "cell_type": "markdown",
   "metadata": {},
   "source": [
    "For data1 (knowledgable student engagment data):"
   ]
  },
  {
   "cell_type": "markdown",
   "metadata": {},
   "source": [
    "Q2:"
   ]
  },
  {
   "cell_type": "code",
   "execution_count": 4,
   "metadata": {},
   "outputs": [
    {
     "name": "stdout",
     "output_type": "stream",
     "text": [
      "Knowledgeable engaged student data size: 937\n",
      "\n",
      "Knowledgeable engaged student sample Mean: 0.7430304110448239\n",
      "\n",
      "Knowledgeable engaged student data Stander Deviation: 0.12712605795317614\n",
      "\n",
      "Knowledgeable engaged student data Stander Error: 0.004153027288269652\n",
      "\n",
      "Knowledgeable engaged student data Stander Score: -1.6781948375012814\n",
      "\n",
      "Knowledgeable engaged student p-value: 0.09364288349711912\n",
      "\n"
     ]
    }
   ],
   "source": [
    "null_hyp1 = 0.75 #Null Hypothesis\n",
    "\n",
    "n = len(data1) # data size\n",
    "print(\"Knowledgeable engaged student data size: {}\\n\".format(n))\n",
    "\n",
    "\n",
    "mean1 = np.mean(data1) # data mean\n",
    "print(\"Knowledgeable engaged student sample Mean: {}\\n\".format(mean1))\n",
    "\n",
    "std1 = np.std(data1, ddof=1) # sample std\n",
    "print(\"Knowledgeable engaged student data Stander Deviation: {}\\n\".format(std1))\n",
    "\n",
    "\n",
    "SE1 = std1/(n ** (0.5))\n",
    "print(\"Knowledgeable engaged student data Stander Error: {}\\n\".format(SE1))\n",
    "\n",
    "\n",
    "z1 = (mean1 - null_hyp1)/(std1/(n ** (0.5))) #stander-score\n",
    "print(\"Knowledgeable engaged student data Stander Score: {}\\n\".format(z1))\n",
    "\n",
    "p1 = 2 * stats.norm.cdf(-abs(z1))\n",
    "# or (same result)\n",
    "p1 = ttest_1samp(data1, null_hyp1)[1] \n",
    "print(\"Knowledgeable engaged student p-value: {}\\n\".format(p1))\n",
    "\n"
   ]
  },
  {
   "cell_type": "code",
   "execution_count": 6,
   "metadata": {},
   "outputs": [
    {
     "name": "stdout",
     "output_type": "stream",
     "text": [
      "Therefore, we reject the null hypothesis for 90% confidence interval\n",
      "and p-value is not significant\n",
      "\n",
      "Also, we accept the null hypothesis for 95% confidence interval\n",
      "and p-value is significant\n",
      "\n",
      "Also, we accept the null hypothesis for 99% confidence interval\n",
      "and p-value is significant\n",
      "\n"
     ]
    }
   ],
   "source": [
    "if p1 < 0.1:    # alpha value is 0.01\n",
    "    print(\"Therefore, we reject the null hypothesis for 90% confidence interval\")\n",
    "    print(\"and p-value is not significant\\n\")\n",
    "\n",
    "else:\n",
    "    print(\"Therefore, we accept the null hypothesis for 90% confidence interval\")\n",
    "    print(\"and p-value is significant\\n\")\n",
    "    \n",
    "if p1 < 0.05:    # alpha value is 0.05\n",
    "    print(\"Also, we reject the null hypothesis for 95% confidence interval\")\n",
    "    print(\"and p-value is not significant\\n\")\n",
    "else:\n",
    "    print(\"Also, we accept the null hypothesis for 95% confidence interval\")\n",
    "    print(\"and p-value is significant\\n\")\n",
    "    \n",
    "if p1 < 0.01:    # alpha value is 0.01\n",
    "    print(\"Therefore, we reject the null hypothesis for 99% confidence interval\")\n",
    "    print(\"and p-value is not significant\\n\")\n",
    "else:\n",
    "    print(\"Also, we accept the null hypothesis for 99% confidence interval\")\n",
    "    print(\"and p-value is significant\\n\")"
   ]
  },
  {
   "cell_type": "markdown",
   "metadata": {},
   "source": [
    "Q3:\n",
    "\n",
    "    For 95% confidance intervale The largest stander error, and the      corresponding mimimum sample size, are as follows:"
   ]
  },
  {
   "cell_type": "code",
   "execution_count": 35,
   "metadata": {},
   "outputs": [
    {
     "name": "stdout",
     "output_type": "stream",
     "text": [
      "At significant at a level of 0.05 \n",
      "The largest standart error is: 0.004237209220916103\n",
      "The minimum sample size is 900\n"
     ]
    }
   ],
   "source": [
    "alpha1 = 0.05 # significant level of 0.05\n",
    "stdr_alpha1 = norm.ppf(alpha1) # stander score at the given level\n",
    "SE_alpha1 = (mean1 - null_hyp1) / stdr_alpha1\n",
    "print(\"At significant at a level of 0.05 \\nThe largest standart error is:\",SE_alpha1)\n",
    "size_alpha1 = (std1 / SE_alpha1) ** 2\n",
    "print(\"The minimum sample size is\",int(size_alpha1))"
   ]
  },
  {
   "cell_type": "markdown",
   "metadata": {},
   "source": [
    "Q4:\n",
    "\n",
    "    This question requires us to compare two datasets. We will work on   comparing the statical results of the null hypothesis H(0) which     should be the same. On the other hand, the alternative hypothesis    H(1) will have different statical results.\n",
    "    \n",
    "    Therefore, in this part we will use hypothesis testing since the     sample size is larger than 30, as follows:"
   ]
  },
  {
   "cell_type": "code",
   "execution_count": 37,
   "metadata": {},
   "outputs": [
    {
     "name": "stdout",
     "output_type": "stream",
     "text": [
      "Non Knowledgeable engaged student data size: 1977\n",
      "\n",
      "Non Knowledgeable engaged student sample Mean: 0.6399545077035914\n",
      "\n",
      "Non Knowledgeable engaged student data Stander Deviation: 0.2541527210309046\n",
      "\n",
      "Non Knowledgeable engaged student data Stander Error: 0.005715989588773277\n",
      "\n",
      "Non Knowledgeable engaged student data Stander Score: -19.252220562568542\n",
      "\n",
      "Non Knowledgeable engaged student p-value: 7.73562183240184e-76\n",
      "\n"
     ]
    }
   ],
   "source": [
    "null_hyp0 = 0.75 #Null Hypothesis\n",
    "\n",
    "n0 = len(data0) # data size\n",
    "print(\"Non Knowledgeable engaged student data size: {}\\n\".format(n0))\n",
    "\n",
    "\n",
    "mean0 = np.mean(data0) # data mean\n",
    "print(\"Non Knowledgeable engaged student sample Mean: {}\\n\".format(mean0))\n",
    "\n",
    "std0 = np.std(data0, ddof=1) # sample std\n",
    "print(\"Non Knowledgeable engaged student data Stander Deviation: {}\\n\".format(std0))\n",
    "\n",
    "\n",
    "SE0 = std0/(n0 ** (0.5))\n",
    "print(\"Non Knowledgeable engaged student data Stander Error: {}\\n\".format(SE0))\n",
    "\n",
    "\n",
    "z0 = (mean0 - null_hyp0)/(std0/(n0 ** (0.5))) #stander-score\n",
    "print(\"Non Knowledgeable engaged student data Stander Score: {}\\n\".format(z0))\n",
    "\n",
    "p0 = 2 * stats.norm.cdf(-abs(z0))\n",
    "# or (same result)\n",
    "p0 = ttest_1samp(data0, null_hyp0)[1] \n",
    "print(\"Non Knowledgeable engaged student p-value: {}\\n\".format(p0))\n",
    "\n"
   ]
  },
  {
   "cell_type": "code",
   "execution_count": 38,
   "metadata": {},
   "outputs": [
    {
     "name": "stdout",
     "output_type": "stream",
     "text": [
      "Therefore, we reject the null hypothesis for 90% confidence interval\n",
      "and p-value is not significant\n",
      "\n",
      "Also, we reject the null hypothesis for 95% confidence interval\n",
      "and p-value is not significant\n",
      "\n",
      "Therefore, we reject the null hypothesis for 99% confidence interval\n",
      "and p-value is not significant\n",
      "\n"
     ]
    }
   ],
   "source": [
    "if p0 < 0.1:    # alpha value is 0.01\n",
    "    print(\"Therefore, we reject the null hypothesis for 90% confidence interval\")\n",
    "    print(\"and p-value is not significant\\n\")\n",
    "\n",
    "else:\n",
    "    print(\"Therefore, we accept the null hypothesis for 90% confidence interval\")\n",
    "    print(\"and p-value is significant\\n\")\n",
    "    \n",
    "if p0 < 0.05:    # alpha value is 0.05\n",
    "    print(\"Also, we reject the null hypothesis for 95% confidence interval\")\n",
    "    print(\"and p-value is not significant\\n\")\n",
    "else:\n",
    "    print(\"Also, we accept the null hypothesis for 95% confidence interval\")\n",
    "    print(\"and p-value is significant\\n\")\n",
    "    \n",
    "if p0 < 0.01:    # alpha value is 0.01\n",
    "    print(\"Therefore, we reject the null hypothesis for 99% confidence interval\")\n",
    "    print(\"and p-value is not significant\\n\")\n",
    "else:\n",
    "    print(\"Also, we accept the null hypothesis for 99% confidence interval\")\n",
    "    print(\"and p-value is significant\\n\")"
   ]
  },
  {
   "cell_type": "markdown",
   "metadata": {},
   "source": [
    "As the result, showed for each statical result the results are different. Then, the Alternative Hypothesis H(1) takes place."
   ]
  },
  {
   "cell_type": "markdown",
   "metadata": {},
   "source": [
    "Q5:\n",
    "\n",
    "    Now we will combine the data and work to find the needed statistical results through hypothesis testing, as follows:"
   ]
  },
  {
   "cell_type": "code",
   "execution_count": 40,
   "metadata": {},
   "outputs": [
    {
     "name": "stdout",
     "output_type": "stream",
     "text": [
      "Non Knowledgeable engaged student data size: 2914\n",
      "\n",
      "Non Knowledgeable engaged student sample Mean: 0.673098681152711\n",
      "\n",
      "Non Knowledgeable engaged student data Stander Deviation: 0.22655636936811666\n",
      "\n",
      "Non Knowledgeable engaged student data Stander Error: 0.004196927844172565\n",
      "\n",
      "Non Knowledgeable engaged student data Stander Score: -18.323240642334728\n",
      "\n",
      "Non Knowledgeable engaged student p-value: 4.572608981610918e-71\n",
      "\n"
     ]
    }
   ],
   "source": [
    "null_hyp0 = 0.75 #Null Hypothesis\n",
    "\n",
    "data = data1 + data0\n",
    "n2 = len(data) # data size\n",
    "print(\"Non Knowledgeable engaged student data size: {}\\n\".format(n2))\n",
    "\n",
    "\n",
    "mean2 = np.mean(data) # data mean\n",
    "print(\"Non Knowledgeable engaged student sample Mean: {}\\n\".format(mean2))\n",
    "\n",
    "std2 = np.std(data, ddof=1) # sample std\n",
    "print(\"Non Knowledgeable engaged student data Stander Deviation: {}\\n\".format(std2))\n",
    "\n",
    "\n",
    "SE2 = std2/(n2 ** (0.5))\n",
    "print(\"Non Knowledgeable engaged student data Stander Error: {}\\n\".format(SE2))\n",
    "\n",
    "\n",
    "z2 = (mean2 - null_hyp0)/(std2/(n2 ** (0.5))) #stander-score\n",
    "print(\"Non Knowledgeable engaged student data Stander Score: {}\\n\".format(z2))\n",
    "\n",
    "p2 = 2 * stats.norm.cdf(-abs(z2))\n",
    "# or (same result)\n",
    "p2 = ttest_1samp(data, null_hyp0)[1] \n",
    "print(\"Non Knowledgeable engaged student p-value: {}\\n\".format(p2))"
   ]
  },
  {
   "cell_type": "markdown",
   "metadata": {},
   "source": [
    "Thus, the p-value is significant for all levels: 0.1, 0.05, 0.01"
   ]
  },
  {
   "cell_type": "code",
   "execution_count": 43,
   "metadata": {},
   "outputs": [],
   "source": [
    "know_file.close()\n",
    "nonknow_file.close()"
   ]
  },
  {
   "cell_type": "markdown",
   "metadata": {},
   "source": []
  }
 ],
 "metadata": {
  "kernelspec": {
   "display_name": "Python 3",
   "language": "python",
   "name": "python3"
  },
  "language_info": {
   "codemirror_mode": {
    "name": "ipython",
    "version": 3
   },
   "file_extension": ".py",
   "mimetype": "text/x-python",
   "name": "python",
   "nbconvert_exporter": "python",
   "pygments_lexer": "ipython3",
   "version": "3.7.4"
  }
 },
 "nbformat": 4,
 "nbformat_minor": 5
}
