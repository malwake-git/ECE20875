{
 "cells": [
  {
   "cell_type": "markdown",
   "metadata": {},
   "source": [
    "$problem$ $2:$"
   ]
  },
  {
   "cell_type": "markdown",
   "metadata": {},
   "source": [
    "Q1:\n",
    "\n",
    "    In this problem we will use the T-test in order to find the          statistical results for a sample of population less than 30:"
   ]
  },
  {
   "cell_type": "code",
   "execution_count": 1,
   "metadata": {},
   "outputs": [],
   "source": [
    "import numpy as np\n",
    "import matplotlib.pyplot\n",
    "import scipy.stats as stats\n",
    "from scipy.stats import ttest_1samp\n",
    "from scipy.stats import norm\n",
    "from scipy.stats import t"
   ]
  },
  {
   "cell_type": "code",
   "execution_count": 25,
   "metadata": {},
   "outputs": [],
   "source": [
    "#inputs\n",
    "\n",
    "data = [3, -3, 3, 15, 15, -16, 14, 21, 30, -24, 32]\n",
    "\n",
    "n0 = len(data) #sample size\n",
    "\n",
    "df0 = n0 - 1\n",
    "\n",
    "c_level0 = 0.9 # confidance interval level\n",
    "\n",
    "alpha0 = (1-c_level0)/2"
   ]
  },
  {
   "cell_type": "code",
   "execution_count": 26,
   "metadata": {},
   "outputs": [
    {
     "name": "stdout",
     "output_type": "stream",
     "text": [
      "Sample mean: 8.181818181818182\n",
      "Sample Standard Deviation: 17.70208000105175\n",
      "Stander error: 5.337377942940253\n",
      "t-value: 1.8124611228107335\n",
      "p-value:  0.10000000000015384\n",
      "Interval Confidence Range:  (-1.4919718375085527, 17.855608201144918)\n"
     ]
    }
   ],
   "source": [
    "# statistical measurments\n",
    "\n",
    "mean0 = np.mean(data)\n",
    "print(\"Sample mean:\",mean0)\n",
    "\n",
    "std0 = np.std(data, ddof=1)\n",
    "print(\"Sample Standard Deviation:\",std0)\n",
    "\n",
    "SE0 = std0 / (n0 ** (1/2))\n",
    "print(\"Stander error:\",SE0)\n",
    "\n",
    "t0 = ttest_1samp(data, alpha0)[0]\n",
    "#or\n",
    "t0 = stats.t.ppf(1 - alpha0, df0)\n",
    "print(\"t-value:\",t0)\n",
    "\n",
    "p0 = ttest_1samp(data, alpha0)[1]\n",
    "#or\n",
    "p0 = 2 * stats.t.cdf(-abs(t0), df0)\n",
    "print(\"p-value: \",p0)\n",
    "\n",
    "range0 = (mean0 - t0 * SE0, mean0 + t0 * SE0)\n",
    "print(\"Interval Confidence Range: \",range0)"
   ]
  },
  {
   "cell_type": "markdown",
   "metadata": {},
   "source": [
    "Q2:\n",
    "\n",
    "    We will carry out the same statistical calculations for a 95%        confidence interval."
   ]
  },
  {
   "cell_type": "code",
   "execution_count": 27,
   "metadata": {},
   "outputs": [],
   "source": [
    "#inputs\n",
    "\n",
    "c_level1 = 0.95 # confidance interval level\n",
    "\n",
    "alpha1 = (1-c_level1)/2"
   ]
  },
  {
   "cell_type": "code",
   "execution_count": 28,
   "metadata": {},
   "outputs": [
    {
     "name": "stdout",
     "output_type": "stream",
     "text": [
      "Sample mean: 8.181818181818182\n",
      "Sample Standard Deviation: 17.70208000105175\n",
      "Stander error: 5.337377942940253\n",
      "t-value: 2.2281388519649385\n",
      "p-value: 0.05000000000180862\n",
      "Interval Confidence Range:  (-3.7106009804676994, 20.074237344104063)\n"
     ]
    }
   ],
   "source": [
    "# statistical measurments\n",
    "\n",
    "mean1 = np.mean(data)\n",
    "print(\"Sample mean:\",mean1)\n",
    "\n",
    "std1 = np.std(data, ddof=1)\n",
    "print(\"Sample Standard Deviation:\",std1)\n",
    "\n",
    "SE1 = std1 / (n0 ** (1/2))\n",
    "print(\"Stander error:\",SE1)\n",
    "\n",
    "t1 = ttest_1samp(data, alpha1)[0]\n",
    "#or\n",
    "t1 = stats.t.ppf(1 - alpha1, df0)\n",
    "print(\"t-value:\",t1)\n",
    "\n",
    "p1 = ttest_1samp(data, alpha1)[1]\n",
    "#or\n",
    "p1 = 2 * stats.t.cdf(-abs(t1), df0)\n",
    "print(\"p-value:\",p1)\n",
    "\n",
    "range1 = (mean1 - t1 * SE1, mean1 + t1 * SE1)\n",
    "print(\"Interval Confidence Range: \",range1)"
   ]
  },
  {
   "cell_type": "markdown",
   "metadata": {},
   "source": [
    "As we can see the statistical results that don't depend on the confidence level haven't changed. However, the p-value and t-value have increased, \n",
    "\n",
    "    where for 90% level of confidence:\n",
    "    t-value = 1.812\n",
    "    p-value = 0.1\n",
    "    for 95% level of confidence:\n",
    "    t-value = 2.2281\n",
    "    p-value = 0.05"
   ]
  },
  {
   "cell_type": "markdown",
   "metadata": {},
   "source": [
    "Q3:\n",
    "\n",
    "    For this part, we will use hypothesis testing (Z-score) for the given stander deviation (= 16.835) to carry out the needed calculations."
   ]
  },
  {
   "cell_type": "code",
   "execution_count": 30,
   "metadata": {},
   "outputs": [
    {
     "name": "stdout",
     "output_type": "stream",
     "text": [
      "Standard Deviation:  16.836\n",
      "Standard Error:  5.076244997311228\n",
      "z-value:  1.959963984540054\n",
      "Interval Confidence Range:  (-1.7674391896134498, 18.131075553249815)\n"
     ]
    }
   ],
   "source": [
    "std2 = 16.836\n",
    "print(\"Standard Deviation: \",std2)\n",
    "\n",
    "SE2 = std2 / (n0**(1/2))\n",
    "print(\"Standard Error: \",SE2)\n",
    "\n",
    "z2 = stats.norm.ppf(1 - alpha1)\n",
    "print(\"z-value: \",z2)\n",
    "\n",
    "range2 = (mean0 - z2 * SE2, mean0 + z2 * SE2)\n",
    "print(\"Interval Confidence Range: \",range2)"
   ]
  },
  {
   "cell_type": "markdown",
   "metadata": {},
   "source": [
    "Therefore, we result that all confidence level non-dependant results (ex. mean, standard deviation) will remain the same. On the other hand, the t-value, z-score, p-value, and range will differ depending on the confidence level."
   ]
  },
  {
   "cell_type": "markdown",
   "metadata": {},
   "source": [
    "Q4:\n",
    "\n",
    "    Finally, in this task, we will work on finding the optimized level of confidence that the team is expected to win on average."
   ]
  },
  {
   "cell_type": "code",
   "execution_count": 32,
   "metadata": {},
   "outputs": [
    {
     "name": "stdout",
     "output_type": "stream",
     "text": [
      "The optimized level of confidance is 0.8437015439608815\n",
      "i.e. Confidance Interval is 84%\n"
     ]
    }
   ],
   "source": [
    "t3 = mean0 / SE0 #t-value\n",
    "p3 = 2 * stats.t.cdf(-abs(t3), df0)\n",
    "\n",
    "c_level_op = (1 - p3)\n",
    "print(\"The optimized level of confidance is {}\". format(c_level_op))\n",
    "print(\"i.e. Confidance Interval is {}%\". format(int(c_level_op * 100)))"
   ]
  },
  {
   "cell_type": "code",
   "execution_count": null,
   "metadata": {},
   "outputs": [],
   "source": []
  }
 ],
 "metadata": {
  "kernelspec": {
   "display_name": "Python 3",
   "language": "python",
   "name": "python3"
  },
  "language_info": {
   "codemirror_mode": {
    "name": "ipython",
    "version": 3
   },
   "file_extension": ".py",
   "mimetype": "text/x-python",
   "name": "python",
   "nbconvert_exporter": "python",
   "pygments_lexer": "ipython3",
   "version": "3.7.4"
  }
 },
 "nbformat": 4,
 "nbformat_minor": 2
}
