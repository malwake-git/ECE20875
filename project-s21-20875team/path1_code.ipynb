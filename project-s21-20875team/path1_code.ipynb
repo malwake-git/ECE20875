{
 "cells": [
  {
   "cell_type": "markdown",
   "metadata": {},
   "source": [
    "# ECE 20875 Project\n",
    "\n",
    "#### Student names:\n",
    "    *1- Mohmmad Alwakeel*\n",
    "    *2- Faisal Alkishi* \n",
    "\n",
    "#### Purdue username:\n",
    "    *1- malwake* \n",
    "    *2- falkishi*\n",
    "\n",
    "#### PUID:\n",
    "    *1- 0031509371*\n",
    "    *2- 0031883032*\n",
    "\n",
    "## path 1: Bike traffic\n",
    "\n",
    "\n"
   ]
  },
  {
   "cell_type": "markdown",
   "metadata": {},
   "source": [
    "### Introduction:\n",
    "\n",
    "   In path 1, the data gives information on bike traffic across several bridges in New York City. The data are provided in a CSV file that consists of 10 columns and 214 rows. The columns tell row data about the traffic each day, where each row provides the following raw data: Date/Day, Precipitation, Max and Min temperature in F, traffic in each bridge, and the total traffic.\n",
    "Our analysis started with understanding the shape and values of the given data and then cleaning and wrangling the data to answer the analysis questions."
   ]
  },
  {
   "cell_type": "code",
   "execution_count": 629,
   "metadata": {},
   "outputs": [],
   "source": [
    "# Cleaning and wrangling the data"
   ]
  },
  {
   "cell_type": "code",
   "execution_count": 795,
   "metadata": {},
   "outputs": [],
   "source": [
    "# Import needed libraries\n",
    "import pandas as pd\n",
    "import matplotlib.pyplot as plt\n",
    "import numpy as np\n",
    "from sklearn.linear_model import Ridge\n",
    "from sklearn.model_selection import train_test_split\n",
    "from sklearn import linear_model\n",
    "from sklearn import datasets\n",
    "from sklearn.linear_model import LinearRegression\n",
    "from sklearn.metrics import mean_squared_error, r2_score\n",
    "from sklearn.ensemble import RandomForestRegressor\n",
    "from sklearn.datasets import make_regression\n",
    "from sklearn.ensemble import RandomForestClassifier\n",
    "from sklearn.preprocessing import StandardScaler\n",
    "import math\n",
    "import re"
   ]
  },
  {
   "cell_type": "code",
   "execution_count": 659,
   "metadata": {},
   "outputs": [],
   "source": [
    "#import CSV file using Pandas\n",
    "data = pd.read_csv('NYC_Bicycle_Counts_2016_Corrected.csv')"
   ]
  },
  {
   "cell_type": "code",
   "execution_count": 660,
   "metadata": {
    "scrolled": true
   },
   "outputs": [
    {
     "data": {
      "text/html": [
       "<div>\n",
       "<style scoped>\n",
       "    .dataframe tbody tr th:only-of-type {\n",
       "        vertical-align: middle;\n",
       "    }\n",
       "\n",
       "    .dataframe tbody tr th {\n",
       "        vertical-align: top;\n",
       "    }\n",
       "\n",
       "    .dataframe thead th {\n",
       "        text-align: right;\n",
       "    }\n",
       "</style>\n",
       "<table border=\"1\" class=\"dataframe\">\n",
       "  <thead>\n",
       "    <tr style=\"text-align: right;\">\n",
       "      <th></th>\n",
       "      <th>High Temp (°F)</th>\n",
       "      <th>Low Temp (°F)</th>\n",
       "    </tr>\n",
       "  </thead>\n",
       "  <tbody>\n",
       "    <tr>\n",
       "      <td>count</td>\n",
       "      <td>214.000000</td>\n",
       "      <td>214.000000</td>\n",
       "    </tr>\n",
       "    <tr>\n",
       "      <td>mean</td>\n",
       "      <td>74.933645</td>\n",
       "      <td>61.972430</td>\n",
       "    </tr>\n",
       "    <tr>\n",
       "      <td>std</td>\n",
       "      <td>12.545418</td>\n",
       "      <td>11.670566</td>\n",
       "    </tr>\n",
       "    <tr>\n",
       "      <td>min</td>\n",
       "      <td>39.900000</td>\n",
       "      <td>26.100000</td>\n",
       "    </tr>\n",
       "    <tr>\n",
       "      <td>25%</td>\n",
       "      <td>66.050000</td>\n",
       "      <td>53.225000</td>\n",
       "    </tr>\n",
       "    <tr>\n",
       "      <td>50%</td>\n",
       "      <td>78.100000</td>\n",
       "      <td>64.900000</td>\n",
       "    </tr>\n",
       "    <tr>\n",
       "      <td>75%</td>\n",
       "      <td>84.900000</td>\n",
       "      <td>71.100000</td>\n",
       "    </tr>\n",
       "    <tr>\n",
       "      <td>max</td>\n",
       "      <td>96.100000</td>\n",
       "      <td>82.000000</td>\n",
       "    </tr>\n",
       "  </tbody>\n",
       "</table>\n",
       "</div>"
      ],
      "text/plain": [
       "       High Temp (°F)  Low Temp (°F)\n",
       "count      214.000000     214.000000\n",
       "mean        74.933645      61.972430\n",
       "std         12.545418      11.670566\n",
       "min         39.900000      26.100000\n",
       "25%         66.050000      53.225000\n",
       "50%         78.100000      64.900000\n",
       "75%         84.900000      71.100000\n",
       "max         96.100000      82.000000"
      ]
     },
     "execution_count": 660,
     "metadata": {},
     "output_type": "execute_result"
    }
   ],
   "source": [
    "# understand the shape of the data\n",
    "data.describe()"
   ]
  },
  {
   "cell_type": "code",
   "execution_count": 661,
   "metadata": {
    "scrolled": true
   },
   "outputs": [
    {
     "data": {
      "text/html": [
       "<div>\n",
       "<style scoped>\n",
       "    .dataframe tbody tr th:only-of-type {\n",
       "        vertical-align: middle;\n",
       "    }\n",
       "\n",
       "    .dataframe tbody tr th {\n",
       "        vertical-align: top;\n",
       "    }\n",
       "\n",
       "    .dataframe thead th {\n",
       "        text-align: right;\n",
       "    }\n",
       "</style>\n",
       "<table border=\"1\" class=\"dataframe\">\n",
       "  <thead>\n",
       "    <tr style=\"text-align: right;\">\n",
       "      <th></th>\n",
       "      <th>Date</th>\n",
       "      <th>Day</th>\n",
       "      <th>High Temp (°F)</th>\n",
       "      <th>Low Temp (°F)</th>\n",
       "      <th>Precipitation</th>\n",
       "      <th>Brooklyn Bridge</th>\n",
       "      <th>Manhattan Bridge</th>\n",
       "      <th>Williamsburg Bridge</th>\n",
       "      <th>Queensboro Bridge</th>\n",
       "      <th>Total</th>\n",
       "    </tr>\n",
       "  </thead>\n",
       "  <tbody>\n",
       "    <tr>\n",
       "      <td>0</td>\n",
       "      <td>1-Apr</td>\n",
       "      <td>Friday</td>\n",
       "      <td>78.1</td>\n",
       "      <td>66.0</td>\n",
       "      <td>0.01</td>\n",
       "      <td>1,704</td>\n",
       "      <td>3,126</td>\n",
       "      <td>4,115</td>\n",
       "      <td>2,552</td>\n",
       "      <td>11,497</td>\n",
       "    </tr>\n",
       "    <tr>\n",
       "      <td>1</td>\n",
       "      <td>2-Apr</td>\n",
       "      <td>Saturday</td>\n",
       "      <td>55.0</td>\n",
       "      <td>48.9</td>\n",
       "      <td>0.15</td>\n",
       "      <td>827</td>\n",
       "      <td>1,646</td>\n",
       "      <td>2,565</td>\n",
       "      <td>1,884</td>\n",
       "      <td>6,922</td>\n",
       "    </tr>\n",
       "    <tr>\n",
       "      <td>2</td>\n",
       "      <td>3-Apr</td>\n",
       "      <td>Sunday</td>\n",
       "      <td>39.9</td>\n",
       "      <td>34.0</td>\n",
       "      <td>0.09</td>\n",
       "      <td>526</td>\n",
       "      <td>1,232</td>\n",
       "      <td>1,695</td>\n",
       "      <td>1,306</td>\n",
       "      <td>4,759</td>\n",
       "    </tr>\n",
       "    <tr>\n",
       "      <td>3</td>\n",
       "      <td>4-Apr</td>\n",
       "      <td>Monday</td>\n",
       "      <td>44.1</td>\n",
       "      <td>33.1</td>\n",
       "      <td>0.47 (S)</td>\n",
       "      <td>521</td>\n",
       "      <td>1,067</td>\n",
       "      <td>1,440</td>\n",
       "      <td>1,307</td>\n",
       "      <td>4,335</td>\n",
       "    </tr>\n",
       "    <tr>\n",
       "      <td>4</td>\n",
       "      <td>5-Apr</td>\n",
       "      <td>Tuesday</td>\n",
       "      <td>42.1</td>\n",
       "      <td>26.1</td>\n",
       "      <td>0</td>\n",
       "      <td>1,416</td>\n",
       "      <td>2,617</td>\n",
       "      <td>3,081</td>\n",
       "      <td>2,357</td>\n",
       "      <td>9,471</td>\n",
       "    </tr>\n",
       "  </tbody>\n",
       "</table>\n",
       "</div>"
      ],
      "text/plain": [
       "    Date       Day  High Temp (°F)  Low Temp (°F) Precipitation  \\\n",
       "0  1-Apr    Friday            78.1           66.0          0.01   \n",
       "1  2-Apr  Saturday            55.0           48.9          0.15   \n",
       "2  3-Apr    Sunday            39.9           34.0          0.09   \n",
       "3  4-Apr    Monday            44.1           33.1      0.47 (S)   \n",
       "4  5-Apr   Tuesday            42.1           26.1             0   \n",
       "\n",
       "  Brooklyn Bridge Manhattan Bridge Williamsburg Bridge Queensboro Bridge  \\\n",
       "0           1,704            3,126               4,115             2,552   \n",
       "1             827            1,646               2,565             1,884   \n",
       "2             526            1,232               1,695             1,306   \n",
       "3             521            1,067               1,440             1,307   \n",
       "4           1,416            2,617               3,081             2,357   \n",
       "\n",
       "    Total  \n",
       "0  11,497  \n",
       "1   6,922  \n",
       "2   4,759  \n",
       "3   4,335  \n",
       "4   9,471  "
      ]
     },
     "execution_count": 661,
     "metadata": {},
     "output_type": "execute_result"
    }
   ],
   "source": [
    "# understand the shape of the data\n",
    "data.head()"
   ]
  },
  {
   "cell_type": "code",
   "execution_count": 662,
   "metadata": {},
   "outputs": [],
   "source": [
    "# rename columns for convenience\n",
    "data = data.rename(columns={\"Brooklyn Bridge\":\"Brooklyn\",\"Manhattan Bridge\":\"Manhattan\",\"Williamsburg Bridge\":\"Williamsburg\",\"Queensboro Bridge\":\"Queensboro\",\"High Temp (°F)\":\"High_F\",\"Low Temp (°F)\":\"Low_F\"})"
   ]
  },
  {
   "cell_type": "code",
   "execution_count": 663,
   "metadata": {},
   "outputs": [],
   "source": [
    "# First step to turn values into floats and integers\n",
    "# getting rid of commas in values\n",
    "data.Brooklyn = [i.replace(\",\",\"\") for i in data.Brooklyn]\n",
    "data.Manhattan = [i.replace(\",\",\"\") for i in data.Manhattan]\n",
    "data.Williamsburg = [i.replace(\",\",\"\") for i in data.Williamsburg]\n",
    "data.Queensboro = [i.replace(\",\",\"\") for i in data.Queensboro]\n",
    "data.Total = [i.replace(\",\",\"\") for i in data.Total]"
   ]
  },
  {
   "cell_type": "code",
   "execution_count": 664,
   "metadata": {},
   "outputs": [],
   "source": [
    "# remove non floats\n",
    "def only_num(data):\n",
    "    filter = re.compile(r'[^\\d.]+')\n",
    "    filtered = []\n",
    "    for i in data:\n",
    "        temp = filter.sub('', i)\n",
    "        if temp == '':\n",
    "            temp = None\n",
    "        filtered.append(temp)\n",
    "    return filtered"
   ]
  },
  {
   "cell_type": "code",
   "execution_count": 665,
   "metadata": {},
   "outputs": [],
   "source": [
    "# remove non floats from the Precipitation column\n",
    "data.Precipitation = only_num(data.Precipitation)"
   ]
  },
  {
   "cell_type": "code",
   "execution_count": 666,
   "metadata": {},
   "outputs": [],
   "source": [
    "# drop empty rows\n",
    "for i in range(len(data.Precipitation)):\n",
    "    if data.Precipitation[i] is None:\n",
    "        data = data.drop([i])"
   ]
  },
  {
   "cell_type": "code",
   "execution_count": 667,
   "metadata": {},
   "outputs": [
    {
     "data": {
      "text/html": [
       "<div>\n",
       "<style scoped>\n",
       "    .dataframe tbody tr th:only-of-type {\n",
       "        vertical-align: middle;\n",
       "    }\n",
       "\n",
       "    .dataframe tbody tr th {\n",
       "        vertical-align: top;\n",
       "    }\n",
       "\n",
       "    .dataframe thead th {\n",
       "        text-align: right;\n",
       "    }\n",
       "</style>\n",
       "<table border=\"1\" class=\"dataframe\">\n",
       "  <thead>\n",
       "    <tr style=\"text-align: right;\">\n",
       "      <th></th>\n",
       "      <th>High_F</th>\n",
       "      <th>Low_F</th>\n",
       "    </tr>\n",
       "  </thead>\n",
       "  <tbody>\n",
       "    <tr>\n",
       "      <td>count</td>\n",
       "      <td>196.00000</td>\n",
       "      <td>196.000000</td>\n",
       "    </tr>\n",
       "    <tr>\n",
       "      <td>mean</td>\n",
       "      <td>74.67500</td>\n",
       "      <td>61.597449</td>\n",
       "    </tr>\n",
       "    <tr>\n",
       "      <td>std</td>\n",
       "      <td>12.68469</td>\n",
       "      <td>11.804616</td>\n",
       "    </tr>\n",
       "    <tr>\n",
       "      <td>min</td>\n",
       "      <td>39.90000</td>\n",
       "      <td>26.100000</td>\n",
       "    </tr>\n",
       "    <tr>\n",
       "      <td>25%</td>\n",
       "      <td>66.00000</td>\n",
       "      <td>53.100000</td>\n",
       "    </tr>\n",
       "    <tr>\n",
       "      <td>50%</td>\n",
       "      <td>77.00000</td>\n",
       "      <td>64.900000</td>\n",
       "    </tr>\n",
       "    <tr>\n",
       "      <td>75%</td>\n",
       "      <td>84.90000</td>\n",
       "      <td>70.275000</td>\n",
       "    </tr>\n",
       "    <tr>\n",
       "      <td>max</td>\n",
       "      <td>96.10000</td>\n",
       "      <td>82.000000</td>\n",
       "    </tr>\n",
       "  </tbody>\n",
       "</table>\n",
       "</div>"
      ],
      "text/plain": [
       "          High_F       Low_F\n",
       "count  196.00000  196.000000\n",
       "mean    74.67500   61.597449\n",
       "std     12.68469   11.804616\n",
       "min     39.90000   26.100000\n",
       "25%     66.00000   53.100000\n",
       "50%     77.00000   64.900000\n",
       "75%     84.90000   70.275000\n",
       "max     96.10000   82.000000"
      ]
     },
     "execution_count": 667,
     "metadata": {},
     "output_type": "execute_result"
    }
   ],
   "source": [
    "# understand the shape of the data\n",
    "data.describe()"
   ]
  },
  {
   "cell_type": "code",
   "execution_count": 669,
   "metadata": {},
   "outputs": [
    {
     "data": {
      "text/html": [
       "<div>\n",
       "<style scoped>\n",
       "    .dataframe tbody tr th:only-of-type {\n",
       "        vertical-align: middle;\n",
       "    }\n",
       "\n",
       "    .dataframe tbody tr th {\n",
       "        vertical-align: top;\n",
       "    }\n",
       "\n",
       "    .dataframe thead th {\n",
       "        text-align: right;\n",
       "    }\n",
       "</style>\n",
       "<table border=\"1\" class=\"dataframe\">\n",
       "  <thead>\n",
       "    <tr style=\"text-align: right;\">\n",
       "      <th></th>\n",
       "      <th>Date</th>\n",
       "      <th>Day</th>\n",
       "      <th>High_F</th>\n",
       "      <th>Low_F</th>\n",
       "      <th>Precipitation</th>\n",
       "      <th>Brooklyn</th>\n",
       "      <th>Manhattan</th>\n",
       "      <th>Williamsburg</th>\n",
       "      <th>Queensboro</th>\n",
       "      <th>Total</th>\n",
       "    </tr>\n",
       "  </thead>\n",
       "  <tbody>\n",
       "    <tr>\n",
       "      <td>0</td>\n",
       "      <td>1-Apr</td>\n",
       "      <td>Friday</td>\n",
       "      <td>78.1</td>\n",
       "      <td>66.0</td>\n",
       "      <td>0.01</td>\n",
       "      <td>1704</td>\n",
       "      <td>3126</td>\n",
       "      <td>4115</td>\n",
       "      <td>2552</td>\n",
       "      <td>11497</td>\n",
       "    </tr>\n",
       "    <tr>\n",
       "      <td>1</td>\n",
       "      <td>2-Apr</td>\n",
       "      <td>Saturday</td>\n",
       "      <td>55.0</td>\n",
       "      <td>48.9</td>\n",
       "      <td>0.15</td>\n",
       "      <td>827</td>\n",
       "      <td>1646</td>\n",
       "      <td>2565</td>\n",
       "      <td>1884</td>\n",
       "      <td>6922</td>\n",
       "    </tr>\n",
       "    <tr>\n",
       "      <td>2</td>\n",
       "      <td>3-Apr</td>\n",
       "      <td>Sunday</td>\n",
       "      <td>39.9</td>\n",
       "      <td>34.0</td>\n",
       "      <td>0.09</td>\n",
       "      <td>526</td>\n",
       "      <td>1232</td>\n",
       "      <td>1695</td>\n",
       "      <td>1306</td>\n",
       "      <td>4759</td>\n",
       "    </tr>\n",
       "    <tr>\n",
       "      <td>3</td>\n",
       "      <td>4-Apr</td>\n",
       "      <td>Monday</td>\n",
       "      <td>44.1</td>\n",
       "      <td>33.1</td>\n",
       "      <td>0.47</td>\n",
       "      <td>521</td>\n",
       "      <td>1067</td>\n",
       "      <td>1440</td>\n",
       "      <td>1307</td>\n",
       "      <td>4335</td>\n",
       "    </tr>\n",
       "    <tr>\n",
       "      <td>4</td>\n",
       "      <td>5-Apr</td>\n",
       "      <td>Tuesday</td>\n",
       "      <td>42.1</td>\n",
       "      <td>26.1</td>\n",
       "      <td>0</td>\n",
       "      <td>1416</td>\n",
       "      <td>2617</td>\n",
       "      <td>3081</td>\n",
       "      <td>2357</td>\n",
       "      <td>9471</td>\n",
       "    </tr>\n",
       "  </tbody>\n",
       "</table>\n",
       "</div>"
      ],
      "text/plain": [
       "    Date       Day  High_F  Low_F Precipitation Brooklyn Manhattan  \\\n",
       "0  1-Apr    Friday    78.1   66.0          0.01     1704      3126   \n",
       "1  2-Apr  Saturday    55.0   48.9          0.15      827      1646   \n",
       "2  3-Apr    Sunday    39.9   34.0          0.09      526      1232   \n",
       "3  4-Apr    Monday    44.1   33.1          0.47      521      1067   \n",
       "4  5-Apr   Tuesday    42.1   26.1             0     1416      2617   \n",
       "\n",
       "  Williamsburg Queensboro  Total  \n",
       "0         4115       2552  11497  \n",
       "1         2565       1884   6922  \n",
       "2         1695       1306   4759  \n",
       "3         1440       1307   4335  \n",
       "4         3081       2357   9471  "
      ]
     },
     "execution_count": 669,
     "metadata": {},
     "output_type": "execute_result"
    }
   ],
   "source": [
    "data.head()"
   ]
  },
  {
   "cell_type": "markdown",
   "metadata": {},
   "source": [
    "A section (or more) describing the results of each analysis, and what your answers to the questions are based on your results. Visual aids are helpful here, if necessary to back up your conclusions. Note that it is OK if you do not get \"positive\" answers from your analysis, but you must explain why that might be."
   ]
  },
  {
   "cell_type": "markdown",
   "metadata": {},
   "source": [
    "### Analysis:\n",
    "\n",
    "After cleaning the data, we are ready now to answer the following questions:\n",
    "\n",
    "**1 - You want to install sensors on the bridges to estimate overall traffic across all the bridges. But you only have enough budget to install sensors on three of the four bridges. Which bridges should you install the sensors on to get the best prediction of overall traffic?**\n",
    "\n",
    "Since we were given the data of the traffic on each bridge and the total traffic, we decided to analyze the data to find the representation of every three bridges from the total traffic. Therefore, we will use the mean of the traffic representation of every three bridges of each day.\n",
    "    \n",
    "    \n",
    "    \n",
    "**2- The city administration is cracking down on helmet laws, and wants to deploy police officers on days with high traffic to hand out citations. Can they use the next day's weather forecast to predict the number of bicyclists that day?**\n",
    "\n",
    "We assume logically that the precipitation rate would affect the traffic on bridges. To confirm that hypothesis, we will investigate two methods. The first is linear regression, where we will examine 5-degree polynomials models based on our independent variable and try to look for a pattern on the graph. Moreover, we will use linear regression to find MSE and R squared values at best-fit lamda based on the founded model. \n",
    "    \n",
    "**3- Can you use this data to predict whether it is raining based on the number of bicyclists on the bridges?**\n",
    "\n",
    "Rationally, flipping the access doesn't make sense. We know that a precipitation rate will affect someone's decision in leaving the house or stay. Nevertheless, People in the streets can only have a butterfly effect on the perception rate. Henceforth, we will test two regression models. The first is linear regression, where will follow the same procedure as question two. Furthermore, we will use random forest regression, where we will use the MSE and R squared values to interpret our final answer regarding the representation and effect of traffic on precipitation rates. The regression model will take into account the four bridges (independent variable) and precipitation rate (dependent variable) to reveal the results."
   ]
  },
  {
   "cell_type": "markdown",
   "metadata": {},
   "source": [
    "## Problem 1:"
   ]
  },
  {
   "cell_type": "markdown",
   "metadata": {},
   "source": [
    "In here, we will find the representation of every three bridges from the total traffic."
   ]
  },
  {
   "cell_type": "code",
   "execution_count": 670,
   "metadata": {},
   "outputs": [],
   "source": [
    "# Turning columns values into floats\n",
    "def turn_float(data):\n",
    "    calc = []\n",
    "    for i in data:\n",
    "        temp = []\n",
    "        for j in i:\n",
    "            temp.append(float(j))\n",
    "        calc.append(temp)\n",
    "    return calc"
   ]
  },
  {
   "cell_type": "code",
   "execution_count": 671,
   "metadata": {},
   "outputs": [],
   "source": [
    "# Combining all briges in one column and turning variables' types into floats\n",
    "\n",
    "# # of bridges\n",
    "Num_of_bridges = 4\n",
    "\n",
    "# Total representation\n",
    "bridges = [data.Brooklyn, data.Manhattan,data.Williamsburg , data.Queensboro]\n",
    "bridges = np.array(bridges)\n",
    "total = np.array(data.Total)\n",
    "#print(bridges)\n",
    "bridges_calc = turn_float(bridges)\n",
    "total_calc = []\n",
    "#for i in bridges:\n",
    " #   temp = []\n",
    "  #  for j in i:\n",
    "   #     temp.append(float(j))\n",
    "    #bridges_calc.append(temp)\n",
    "    \n",
    "for j in total:\n",
    "    total_calc.append(float(j))\n",
    "    \n"
   ]
  },
  {
   "cell_type": "code",
   "execution_count": 672,
   "metadata": {},
   "outputs": [],
   "source": [
    "# Find the representation\n",
    "def representation(bridges,total,Num_of_bridges):\n",
    "    total_rep = []\n",
    "    for i in range(Num_of_bridges):\n",
    "        #i = 0 => Brooklyn, Manhattan, Williamsburg\n",
    "        #i = 1 => Manhattan, Williamsburg, Queensboro\n",
    "        if i < 2:\n",
    "            temp = np.array(bridges[i]) + np.array(bridges[i+1]) + np.array(bridges[i+2])\n",
    "            temp = temp/np.array(total)\n",
    "        #i = 2 => Brooklyn, Williamsburg, Queensboro\n",
    "        elif i == 2:\n",
    "            temp =  np.array(bridges[i]) + np.array(bridges[i-2]) + np.array(bridges[i+1])\n",
    "            temp = temp/np.array(total)\n",
    "        #i = 3 => Brooklyn, Manhattan, Queensboro\n",
    "        else:\n",
    "            temp =  np.array(bridges[i]) + np.array(bridges[i-2]) + np.array(bridges[i-3])\n",
    "            temp = temp/np.array(total)\n",
    "        total_rep.append(temp)\n",
    "    return total_rep"
   ]
  },
  {
   "cell_type": "code",
   "execution_count": 673,
   "metadata": {},
   "outputs": [
    {
     "name": "stdout",
     "output_type": "stream",
     "text": [
      "[0.7645454300787278, 0.8396983345390486, 0.7295617094534255, 0.6661945259287985]\n"
     ]
    }
   ],
   "source": [
    "#total representation\n",
    "total_rep = representation(bridges_calc,total_calc,Num_of_bridges);\n",
    "\n",
    "#total representation mean\n",
    "mean_rep = [np.mean(i) for i in total_rep]\n",
    "print(mean_rep)"
   ]
  },
  {
   "cell_type": "markdown",
   "metadata": {},
   "source": [
    "#### Final results:"
   ]
  },
  {
   "cell_type": "code",
   "execution_count": 684,
   "metadata": {},
   "outputs": [
    {
     "name": "stdout",
     "output_type": "stream",
     "text": [
      "Brooklyn, Manhattan, and Williamsburg bridges represent 76.45% \n",
      "\n",
      "Manhattan, Williamsburg, Queensboro bridges have the highest representation of 83.97% \n",
      "\n",
      "Brooklyn, Williamsburg, Queensboro bridges represent 72.96% \n",
      "\n",
      "Brooklyn, Manhattan, Queensboro bridges represent 66.62%\n",
      "\n",
      "\n",
      "Therefore, the bridge to be omitted is: Brooklyn bridge\n"
     ]
    }
   ],
   "source": [
    "print(\"Brooklyn, Manhattan, and Williamsburg bridges represent {:.2f}% \\n\".format(mean_rep[0]*100))\n",
    "\n",
    "print(\"Manhattan, Williamsburg, Queensboro bridges have the highest representation of {:.2f}% \\n\".format(mean_rep[1]*100))\n",
    "\n",
    "print(\"Brooklyn, Williamsburg, Queensboro bridges represent {:.2f}% \\n\".format(mean_rep[2]*100))\n",
    "\n",
    "print(\"Brooklyn, Manhattan, Queensboro bridges represent {:.2f}%\\n\".format(mean_rep[3]*100))\n",
    "\n",
    "print(\"\\nTherefore, the bridge to be omitted is: Brooklyn bridge\")\n"
   ]
  },
  {
   "cell_type": "markdown",
   "metadata": {},
   "source": [
    "## Problem2:"
   ]
  },
  {
   "cell_type": "markdown",
   "metadata": {},
   "source": [
    "First, we will examine 5-degree polynomials models based on our independent variable and try to look for a pattern on the graph."
   ]
  },
  {
   "cell_type": "code",
   "execution_count": 686,
   "metadata": {},
   "outputs": [],
   "source": [
    "x = np.array(data.Precipitation)\n",
    "y = np.array(data.Total)\n",
    "x = [float(u) for u in x]\n",
    "y = [float(u) for u in y]"
   ]
  },
  {
   "cell_type": "code",
   "execution_count": 685,
   "metadata": {},
   "outputs": [],
   "source": [
    "# Intoduce the functions for polynomial degree representation\n",
    "def Polyfit(X,Y, degrees):\n",
    "    paramFits = []\n",
    "    y_1 = []\n",
    "    y_2 = []\n",
    "    y_3 = []\n",
    "    y_4 = []\n",
    "    y_5 = []\n",
    "        \n",
    "    for j in degrees:\n",
    "        mitrx = feature_matrix(X, j)\n",
    "        ##matrix\n",
    "        paramFits.append(least_squares(mitrx, Y))\n",
    "        \n",
    "    xsort = sorted(X)\n",
    "    \n",
    "    for l in sorted(X):\n",
    "        res1 = paramFits[0][0] * l + paramFits[0][1]\n",
    "        res2 = paramFits[1][0] * (l ** 2) + paramFits[1][1] * l + paramFits[1][2]\n",
    "        res3 = paramFits[2][0] * (l ** 3) + paramFits[2][1] * (l ** 2) + paramFits[2][2] * l + paramFits[2][3]\n",
    "        res4 = paramFits[3][0] * (l ** 4) + paramFits[3][1] * (l ** 3) + paramFits[3][2] * (l ** 2) + paramFits[3][3] * l + paramFits[3][4]\n",
    "        res5 = paramFits[4][0] * (l ** 5) + paramFits[4][1] * (l ** 4) + paramFits[4][2] * (l ** 3) + paramFits[4][3] * (l ** 2) + paramFits[4][4] * l + paramFits[4][5]\n",
    "        y_1.append(res1)\n",
    "        y_2.append(res2)\n",
    "        y_3.append(res3)\n",
    "        y_4.append(res4)\n",
    "        y_5.append(res5)\n",
    "            \n",
    "    plt.scatter(X, Y, color='b', marker='*')\n",
    "    \n",
    "    plt.plot(sorted(X), y_1, color='g', linestyle='-.')\n",
    "    plt.plot(sorted(X), y_2, color='b', linestyle='-.')\n",
    "    plt.plot(sorted(X), y_3, color='m', linestyle='-.')\n",
    "    plt.plot(sorted(X), y_4, color='y', linestyle='-.')\n",
    "    plt.plot(sorted(X), y_5, color='r', linestyle='-.')\n",
    "    \n",
    "    plt.legend([\"data = 1\", \"data = 2\", \"data = 3\", \"data = 4\", \"data = 5\", \"Path Data\"], loc='upper right')\n",
    "    plt.ylabel(\"Y Data\")\n",
    "    plt.xlabel(\"X Data\")\n",
    " \n",
    "    plt.show()\n",
    "    ##\n",
    "    return paramFits\n",
    "\n",
    "def feature_matrix(x, d):\n",
    "    # fill in\n",
    "    # There are several ways to write this function. The most efficient would be a nested list comprehension\n",
    "    # which for each sample in x calculates x^d, x^(d-1), ..., x^0.\n",
    "    X_list = []\n",
    "    ind = 0\n",
    "    for i in x:\n",
    "        d1 = d\n",
    "        \n",
    "        X_list.append([])\n",
    "        \n",
    "        while d1 >= 0:\n",
    "            X_list[ind].append(i**d1)\n",
    "            d1 -= 1\n",
    "            #d = 1    \n",
    "        ind += 1\n",
    "    return X_list\n",
    "\n",
    "\n",
    "# Return the least squares solution based on the feature matrix X and corresponding target variable samples in y.\n",
    "# Input: X as a list of features for each sample, and y as a list of target variable samples.\n",
    "# Output: B, a list of the fitted model parameters based on the least squares solution.\n",
    "def least_squares(X, y):\n",
    "    X_array = np.array(X)\n",
    "    # X_array = list(X)\n",
    "    Y_array = np.array(y)\n",
    "\n",
    "    # fill in\n",
    "    # Use the matrix algebra functions in numpy to solve the least squares equations. This can be done in just one line.\n",
    "    \n",
    "    return (np.linalg.inv(X_array.T @ X_array)) @ (X_array.T @ Y_array)"
   ]
  },
  {
   "cell_type": "code",
   "execution_count": 691,
   "metadata": {},
   "outputs": [],
   "source": [
    "# Find best fit lamda\n",
    "def linearregression(X,y):\n",
    "    #Importing dataset\n",
    "    [X_train, X_test, y_train, y_test] = train_test_split(X, y, test_size=0.25, random_state=101)\n",
    "\n",
    "    X_train = X_train_norm\n",
    "    X_test = X_test_norm\n",
    "\n",
    "    lmbda = np.logspace(0, 3,endpoint = True) #fill in\n",
    "\n",
    "    MODEL = []\n",
    "    MSE = []\n",
    "    for l in lmbda:\n",
    "        #Train the regression model using a regularization parameter of l\n",
    "        model = train_model(X_train,y_train,l)\n",
    "\n",
    "        #Evaluate the MSE on the test set\n",
    "        mse = error(X_test,y_test,model)\n",
    "\n",
    "        #Store the model and mse in lists for further processing\n",
    "        MODEL.append(model)\n",
    "        MSE.append(mse)\n",
    "\n",
    "    #Plot the MSE as a function of lmbda\n",
    "    plt.plot(lmbda, MSE) #fill in\n",
    "    plt.xlabel('Lambda')\n",
    "    plt.ylabel('MSE')\n",
    "    plt.title('MSE as a function of Lambda')\n",
    "    plt.show()\n",
    "\n",
    "    #Find best value of lmbda in terms of MSE\n",
    "    ind = MSE.index(min(MSE))\n",
    "    #fill in\n",
    "    [lmda_best,MSE_best,model_best] = [lmbda[ind],MSE[ind],MODEL[ind]]\n",
    "\n",
    "    print('Best lambda tested is ' + str(lmda_best) + ', which yields an MSE of ' + str(MSE_best))\n",
    "\n",
    "    return model_best\n",
    "\n",
    "def normalize_train(X_train):\n",
    "\n",
    "    X = []\n",
    "    mean = []\n",
    "    std = []\n",
    "    #count = 0\n",
    "    for i in range(len(X_train)):\n",
    "        k = X_train[i]\n",
    "        col = k\n",
    "        mean1 = col.mean()\n",
    "        std1 = np.std(col)\n",
    "        mean.append(col.mean())\n",
    "        std.append(np.std(col))\n",
    "        x1 = []\n",
    "        for j in col:\n",
    "            new = (j - mean1) / std1\n",
    "            x1.append(new)  \n",
    "        X.append(x1)\n",
    "\n",
    "    return np.array(X).T, mean, std\n",
    "\n",
    "def normalize_test(X_test, trn_mean, trn_std):\n",
    "\n",
    "    #fill in\n",
    "    X = []\n",
    "    x1 = []\n",
    "    for i in range(len(X_test)):\n",
    "        k = X_test[i]\n",
    "        col = k\n",
    "        mean = trn_mean[i]\n",
    "        std = trn_std[i]\n",
    "        x1 = []\n",
    "        for j in col:\n",
    "            new = (j - mean) / std\n",
    "            x1.append(new)  \n",
    "        X.append(x1)\n",
    "\n",
    "\n",
    "    return np.array(X).T\n",
    "\n",
    "def train_model(X,y,l):\n",
    "    model = linear_model.Ridge(alpha = l, fit_intercept = True)\n",
    "    model.fit(X, y)\n",
    "\n",
    "    return model\n",
    "\n",
    "def error(X,y,model):\n",
    "\n",
    "    y_pred_test = model.predict(X)\n",
    "    mse = mean_squared_error(y, y_pred_test)\n",
    "    #y_pred = (model * std_y) + mean_y\n",
    "    return(mse)"
   ]
  },
  {
   "cell_type": "code",
   "execution_count": 687,
   "metadata": {},
   "outputs": [
    {
     "data": {
      "image/png": "[encoded data removed]",
      "text/plain": [
       "<Figure size 432x288 with 1 Axes>"
      ]
     },
     "metadata": {
      "needs_background": "light"
     },
     "output_type": "display_data"
    }
   ],
   "source": [
    "degrees = [1, 2, 3, 4, 5]\n",
    "paramFits = Polyfit(x,y, degrees)"
   ]
  },
  {
   "cell_type": "markdown",
   "metadata": {},
   "source": [
    " The five-degree polynomials models don't fit the raw data. Hence, let's check the MSE and R squared values to check whether precipitation rates predict/interpret traffic on bridges."
   ]
  },
  {
   "cell_type": "code",
   "execution_count": null,
   "metadata": {},
   "outputs": [],
   "source": []
  },
  {
   "cell_type": "code",
   "execution_count": 751,
   "metadata": {},
   "outputs": [],
   "source": [
    "x = np.array(data.Precipitation)\n",
    "y = np.array(data.Total)\n",
    "x = [[float(u)] for u in x]\n",
    "y = [[float(u)] for u in y]"
   ]
  },
  {
   "cell_type": "code",
   "execution_count": 754,
   "metadata": {},
   "outputs": [
    {
     "name": "stdout",
     "output_type": "stream",
     "text": [
      "Mean squared error: 26552221.57\n",
      "Coefficient of determination: 0.23\n"
     ]
    },
    {
     "data": {
      "image/png": "[encoded data removed]",
      "text/plain": [
       "<Figure size 432x288 with 1 Axes>"
      ]
     },
     "metadata": {
      "needs_background": "light"
     },
     "output_type": "display_data"
    }
   ],
   "source": [
    "# at defult lambda\n",
    "X_train, X_test, y_train, y_test = train_test_split(x, y, random_state=0)\n",
    "regr = LinearRegression(fit_intercept=True)\n",
    "regr.fit(X_train,y_train)\n",
    "\n",
    "y_pred_test = regr.predict(X_test)\n",
    "\n",
    "print('Mean squared error: %.2f'\n",
    " % mean_squared_error(y_test, y_pred_test))\n",
    "# The coefficient of determination: 1 is perfect prediction\n",
    "print('Coefficient of determination: %.2f'\n",
    " % r2_score(y_test, y_pred_test))\n",
    "\n",
    "plt.scatter(X_train, y_train, color='black', label='Train data points')\n",
    "plt.scatter(X_test, y_test, color='red', label='Test data points')\n",
    "plt.plot(X_test, y_pred_test, color='blue', linewidth=1, label='Model')\n",
    "plt.scatter(X_test, y_pred_test, marker='x', color='red', linewidth=3)\n",
    "plt.legend()\n",
    "plt.show()"
   ]
  },
  {
   "cell_type": "markdown",
   "metadata": {},
   "source": [
    "The MSE and R squared results show poor representation. Therefore, we say that the city administration can't rely on next-day traffic estimation by checking the forecast. Furthermore, the given data have a high number of outliers which makes it difficult for linear regression to predict the result."
   ]
  },
  {
   "cell_type": "code",
   "execution_count": 693,
   "metadata": {},
   "outputs": [
    {
     "data": {
      "image/png": "[encoded data removed]",
      "text/plain": [
       "<Figure size 432x288 with 1 Axes>"
      ]
     },
     "metadata": {
      "needs_background": "light"
     },
     "output_type": "display_data"
    },
    {
     "name": "stdout",
     "output_type": "stream",
     "text": [
      "Best lambda tested is 1000.0, which yields an MSE of 35512659.98294826\n",
      "[[48.82463029]]\n",
      "[18471.24489796]\n"
     ]
    }
   ],
   "source": [
    "# check if best fit lamba < 1000\n",
    "\n",
    "model_best = linearregression(x,y)\n",
    "\n",
    "print(model_best.coef_)\n",
    "print(model_best.intercept_)\n"
   ]
  },
  {
   "cell_type": "markdown",
   "metadata": {},
   "source": [
    "The best fit model uses lambda > 1000. Therefore, we ignore this result and stick to the previous result, which still tells that the city administration can't rely on next-day traffic estimation by checking the forecast"
   ]
  },
  {
   "cell_type": "code",
   "execution_count": null,
   "metadata": {},
   "outputs": [],
   "source": []
  },
  {
   "cell_type": "markdown",
   "metadata": {},
   "source": [
    "## Problem 3:"
   ]
  },
  {
   "cell_type": "markdown",
   "metadata": {},
   "source": [
    "First, we will examine 5-degree polynomials models based on our independent variable and try to look for a pattern on the graph."
   ]
  },
  {
   "cell_type": "code",
   "execution_count": 695,
   "metadata": {},
   "outputs": [],
   "source": [
    "y_flip = np.array(data.Precipitation)\n",
    "x_flip = np.array(data.Total)\n",
    "y_flip = [float(u) for u in y_flip]\n",
    "x_flip = [float(u) for u in x_flip]"
   ]
  },
  {
   "cell_type": "code",
   "execution_count": 696,
   "metadata": {},
   "outputs": [
    {
     "data": {
      "image/png": "[encoded data removed]",
      "text/plain": [
       "<Figure size 432x288 with 1 Axes>"
      ]
     },
     "metadata": {
      "needs_background": "light"
     },
     "output_type": "display_data"
    }
   ],
   "source": [
    "degrees = [1, 2, 3, 4, 5]\n",
    "paramFits_flip = Polyfit(x_flip,y_flip, degrees)"
   ]
  },
  {
   "cell_type": "markdown",
   "metadata": {},
   "source": [
    " The five-degree polynomials models don't fit the raw data. Hence, let's check the MSE and R squared values to check whether precipitation rates predict/interpret traffic on bridges."
   ]
  },
  {
   "cell_type": "code",
   "execution_count": 698,
   "metadata": {},
   "outputs": [],
   "source": [
    "y_flip = np.array(data.Precipitation)\n",
    "x_flip = np.array(data.Total)\n",
    "y_flip = [[float(u)] for u in y_flip]\n",
    "x_flip = [[float(u)] for u in x_flip]"
   ]
  },
  {
   "cell_type": "code",
   "execution_count": 699,
   "metadata": {},
   "outputs": [
    {
     "name": "stdout",
     "output_type": "stream",
     "text": [
      "Mean squared error: 0.04\n",
      "Coefficient of determination: 0.25\n"
     ]
    },
    {
     "data": {
      "image/png": "[encoded data removed]",
      "text/plain": [
       "<Figure size 432x288 with 1 Axes>"
      ]
     },
     "metadata": {
      "needs_background": "light"
     },
     "output_type": "display_data"
    }
   ],
   "source": [
    "# defult lamda\n",
    "X_train, X_test, y_train, y_test = train_test_split(x_flip, y_flip, random_state=0)\n",
    "regr = LinearRegression(fit_intercept=True)\n",
    "regr.fit(X_train,y_train)\n",
    "\n",
    "y_pred_test = regr.predict(X_test)\n",
    "\n",
    "print('Mean squared error: %.2f'\n",
    " % mean_squared_error(y_test, y_pred_test))\n",
    "# The coefficient of determination: 1 is perfect prediction\n",
    "print('Coefficient of determination: %.2f'\n",
    " % r2_score(y_test, y_pred_test))\n",
    "\n",
    "plt.scatter(X_train, y_train, color='black', label='Train data points')\n",
    "plt.scatter(X_test, y_test, color='red', label='Test data points')\n",
    "plt.plot(X_test, y_pred_test, color='blue', linewidth=1, label='Model')\n",
    "plt.scatter(X_test, y_pred_test, marker='x', color='red', linewidth=3)\n",
    "plt.legend()\n",
    "plt.show()"
   ]
  },
  {
   "cell_type": "markdown",
   "metadata": {},
   "source": [
    "The MSE and R squared results show inaccurate results. The coefficient of determination provides a low score. On the other hand, MSE shows a very low score (High representation). Therefore, we will further investigate with the best fit lambda and then use the forest random regression model."
   ]
  },
  {
   "cell_type": "code",
   "execution_count": null,
   "metadata": {},
   "outputs": [],
   "source": []
  },
  {
   "cell_type": "code",
   "execution_count": 700,
   "metadata": {},
   "outputs": [
    {
     "data": {
      "image/png": "[encoded data removed]",
      "text/plain": [
       "<Figure size 432x288 with 1 Axes>"
      ]
     },
     "metadata": {
      "needs_background": "light"
     },
     "output_type": "display_data"
    },
    {
     "name": "stdout",
     "output_type": "stream",
     "text": [
      "Best lambda tested is 1000.0, which yields an MSE of 0.06247271363444927\n",
      "[[-0.00059043]]\n",
      "[0.11517007]\n"
     ]
    }
   ],
   "source": [
    "# check if best fit lamba < 1000\n",
    "\n",
    "model_best = linearregression(x_flip,y_flip)\n",
    "\n",
    "print(model_best.coef_)\n",
    "print(model_best.intercept_)"
   ]
  },
  {
   "cell_type": "markdown",
   "metadata": {},
   "source": [
    "The best fit model uses lambda > 1000. Therefore, we ignore this result and the previous result and apply the forest random regression model."
   ]
  },
  {
   "cell_type": "code",
   "execution_count": null,
   "metadata": {},
   "outputs": [],
   "source": []
  },
  {
   "cell_type": "code",
   "execution_count": 842,
   "metadata": {},
   "outputs": [],
   "source": [
    "# Prepering the columns and values to create the model\n",
    "brooklyn_bridge = data.Brooklyn.to_list()\n",
    "queensboro_bridge = data.Queensboro.to_list()\n",
    "Williamsburg_bridge = data.Williamsburg.to_list()\n",
    "manhattan_bridge = data.Manhattan.to_list()\n",
    "\n",
    "#Turning strings into floats\n",
    "brooklyn_bridge = [float(i) for i in brooklyn_bridge]\n",
    "queensboro_bridge = [float(i) for i in queensboro_bridge]\n",
    "Williamsburg_bridge = [float(i) for i in Williamsburg_bridge]\n",
    "manhattan_bridge = [float(i) for i in manhattan_bridge]\n",
    "\n",
    "# Creating our dependent variable for the model\n",
    "bridges_forest = []\n",
    "for i in range(len(brooklyn)):\n",
    "    bridges_forest.append([brooklyn_bridge[i],queensboro_bridge[i],Williamsburg_bridge[i],manhattan_bridge[i]])\n",
    "    \n",
    "bridges_forest = [[np.sum(i)] for i in bridges_forest]"
   ]
  },
  {
   "cell_type": "code",
   "execution_count": 843,
   "metadata": {},
   "outputs": [],
   "source": [
    "# dependent and independant variables\n",
    "x_forest = np.array(bridges_forest)\n",
    "y_forest = np.array(data.Precipitation)\n",
    "\n",
    "y_forest = [[float(u)] for u in y_forest]\n",
    "y_forest = pd.DataFrame(data=y_forest)\n",
    "#x_forest = x_forest.astype('int')\n",
    "x_forest = pd.DataFrame(data=x_forest)"
   ]
  },
  {
   "cell_type": "code",
   "execution_count": 850,
   "metadata": {},
   "outputs": [
    {
     "name": "stderr",
     "output_type": "stream",
     "text": [
      "D:\\Anaconda3\\lib\\site-packages\\ipykernel_launcher.py:8: DataConversionWarning: A column-vector y was passed when a 1d array was expected. Please change the shape of y to (n_samples,), for example using ravel().\n",
      "  \n"
     ]
    }
   ],
   "source": [
    "#normulize and generate predicted y based on the regression model\n",
    "X_train, X_test, y_train, y_test = train_test_split(x_forest, y_forest, random_state=0)\n",
    "sc = StandardScaler()\n",
    "X_train = sc.fit_transform(X_train)\n",
    "X_test = sc.transform(X_test)\n",
    "\n",
    "regressor = RandomForestRegressor(n_estimators=20, random_state=0)\n",
    "regressor.fit(X_train, y_train)\n",
    "y_pred = regressor.predict(X_test)\n"
   ]
  },
  {
   "cell_type": "code",
   "execution_count": 851,
   "metadata": {},
   "outputs": [
    {
     "name": "stdout",
     "output_type": "stream",
     "text": [
      "Mean squared error: 0.08\n",
      "Coefficient of determination: -0.42\n"
     ]
    },
    {
     "data": {
      "image/png": "[encoded data removed]",
      "text/plain": [
       "<Figure size 432x288 with 1 Axes>"
      ]
     },
     "metadata": {
      "needs_background": "light"
     },
     "output_type": "display_data"
    }
   ],
   "source": [
    "#Printing and plotting the result\n",
    "print('Mean squared error: %.2f'\n",
    " % mean_squared_error(y_test, y_pred))\n",
    "# The coefficient of determination: 1 is perfect prediction\n",
    "print('Coefficient of determination: %.2f'\n",
    " % r2_score(y_test, y_pred))\n",
    "\n",
    "plt.scatter(X_train, y_train, color='black', label='Train data points')\n",
    "plt.scatter(X_test, y_test, color='red', label='Test data points')\n",
    "plt.plot(X_test, y_pred_test, color='blue', linewidth=1, label='Model')\n",
    "plt.scatter(X_test, y_pred_test, marker='x', color='red', linewidth=3)\n",
    "plt.legend()\n",
    "plt.show()"
   ]
  },
  {
   "cell_type": "markdown",
   "metadata": {},
   "source": [
    "In conclusion, based on the analysis parameters and plots, we can interfere that bike traffic prediction is not dependent on precipitation rate and may not be predicted based on the given x value. In addition, using the mean is a better estimation. The random forest regression model explained and proved our previous rational assumption."
   ]
  },
  {
   "cell_type": "code",
   "execution_count": null,
   "metadata": {},
   "outputs": [],
   "source": []
  },
  {
   "cell_type": "code",
   "execution_count": null,
   "metadata": {},
   "outputs": [],
   "source": []
  }
 ],
 "metadata": {
  "kernelspec": {
   "display_name": "Python 3",
   "language": "python",
   "name": "python3"
  },
  "language_info": {
   "codemirror_mode": {
    "name": "ipython",
    "version": 3
   },
   "file_extension": ".py",
   "mimetype": "text/x-python",
   "name": "python",
   "nbconvert_exporter": "python",
   "pygments_lexer": "ipython3",
   "version": "3.7.4"
  }
 },
 "nbformat": 4,
 "nbformat_minor": 2
}
